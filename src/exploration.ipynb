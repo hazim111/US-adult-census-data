{
 "metadata": {
  "language_info": {
   "codemirror_mode": {
    "name": "ipython",
    "version": 3
   },
   "file_extension": ".py",
   "mimetype": "text/x-python",
   "name": "python",
   "nbconvert_exporter": "python",
   "pygments_lexer": "ipython3",
   "version": "3.7.6-final"
  },
  "orig_nbformat": 2,
  "kernelspec": {
   "name": "python3",
   "display_name": "Python 3.7.6 64-bit ('ds': conda)",
   "metadata": {
    "interpreter": {
     "hash": "6eedcd8437f43c954a6250abd492faac47c2ca6f7dabd83debe264151191690a"
    }
   }
  }
 },
 "nbformat": 4,
 "nbformat_minor": 2,
 "cells": [
  {
   "cell_type": "code",
   "execution_count": 1,
   "metadata": {},
   "outputs": [],
   "source": [
    "import pandas as pd"
   ]
  },
  {
   "cell_type": "code",
   "execution_count": 11,
   "metadata": {},
   "outputs": [],
   "source": [
    "cols = [\"age\", \"workclass\",\"fnlwgt\",\"education\",\"education-num\",\"marital-status\",\"occupation\", \"relationship\",\"race\",\"sex\",\"capital-gain\",\"capital-loss\", \"hours-per-week\", \"native-country\",\"income\"]\n",
    "\n",
    "df = pd.read_csv(\"/home/hazim/Desktop/US-adult-census-data/input/adult.data\",names=cols)"
   ]
  },
  {
   "cell_type": "code",
   "execution_count": 13,
   "metadata": {},
   "outputs": [
    {
     "output_type": "stream",
     "name": "stdout",
     "text": [
      "<class 'pandas.core.frame.DataFrame'>\nRangeIndex: 32561 entries, 0 to 32560\nData columns (total 15 columns):\n #   Column          Non-Null Count  Dtype \n---  ------          --------------  ----- \n 0   age             32561 non-null  int64 \n 1   workclass       32561 non-null  object\n 2   fnlwgt          32561 non-null  int64 \n 3   education       32561 non-null  object\n 4   education-num   32561 non-null  int64 \n 5   marital-status  32561 non-null  object\n 6   occupation      32561 non-null  object\n 7   relationship    32561 non-null  object\n 8   race            32561 non-null  object\n 9   sex             32561 non-null  object\n 10  capital-gain    32561 non-null  int64 \n 11  capital-loss    32561 non-null  int64 \n 12  hours-per-week  32561 non-null  int64 \n 13  native-country  32561 non-null  object\n 14  income          32561 non-null  object\ndtypes: int64(6), object(9)\nmemory usage: 3.7+ MB\n"
     ]
    }
   ],
   "source": [
    "df.info()"
   ]
  },
  {
   "cell_type": "code",
   "execution_count": 15,
   "metadata": {},
   "outputs": [],
   "source": [
    "num_cols = [\n",
    "        \"age\",\n",
    "        \"fnlwgt\",\n",
    "        \"capital-gain\",\n",
    "        \"capital-loss\",\n",
    "        \"hours-per-week\"\n",
    "    ]"
   ]
  },
  {
   "cell_type": "code",
   "execution_count": 16,
   "metadata": {},
   "outputs": [],
   "source": [
    "features = [feature for feature in df.columns if feature not in (\"income\",\"kfold\") and feature not in num_cols]\n"
   ]
  },
  {
   "cell_type": "code",
   "execution_count": 17,
   "metadata": {},
   "outputs": [
    {
     "output_type": "execute_result",
     "data": {
      "text/plain": [
       "['workclass',\n",
       " 'education',\n",
       " 'education-num',\n",
       " 'marital-status',\n",
       " 'occupation',\n",
       " 'relationship',\n",
       " 'race',\n",
       " 'sex',\n",
       " 'native-country']"
      ]
     },
     "metadata": {},
     "execution_count": 17
    }
   ],
   "source": [
    "features"
   ]
  },
  {
   "cell_type": "code",
   "execution_count": 155,
   "metadata": {},
   "outputs": [],
   "source": [
    "df = pd.read_csv(\"/home/hazim/Desktop/US-adult-census-data/input/train_folds.csv\")"
   ]
  },
  {
   "cell_type": "code",
   "execution_count": 156,
   "metadata": {},
   "outputs": [],
   "source": [
    "import pandas as pd\n",
    "from sklearn import metrics\n",
    "from sklearn import preprocessing\n",
    "from sklearn import linear_model\n",
    "from sklearn import ensemble"
   ]
  },
  {
   "cell_type": "code",
   "execution_count": 157,
   "metadata": {},
   "outputs": [],
   "source": [
    "df = df.apply(lambda x: x.str.strip() if x.dtype == \"object\" else x)"
   ]
  },
  {
   "cell_type": "code",
   "execution_count": 158,
   "metadata": {},
   "outputs": [
    {
     "output_type": "execute_result",
     "data": {
      "text/plain": [
       "array(['<=50K', '>50K'], dtype=object)"
      ]
     },
     "metadata": {},
     "execution_count": 158
    }
   ],
   "source": [
    "df.income.unique()"
   ]
  },
  {
   "cell_type": "code",
   "execution_count": 159,
   "metadata": {},
   "outputs": [],
   "source": [
    "num_cols = [\n",
    "    \"age\",\n",
    "    \"fnlwgt\",\n",
    "    \"capital-gain\",\n",
    "    \"capital-loss\",\n",
    "    \"hours-per-week\"\n",
    "]\n",
    "\n",
    "df = df.drop(num_cols, axis=1)\n",
    "\n",
    "df.loc[:, 'income'][df['income']== '<=50K'] = 0\n",
    "df.loc[:, 'income'][df['income']== '>50K'] = 1\n",
    "\n",
    "df['income'] = df.income.astype(int)\n",
    "\n",
    "\n",
    "#for cols in df.columns:\n",
    "   # df.loc[:, cols][df[cols]== '?'] = \"abc\"\n",
    "\n",
    "\n"
   ]
  },
  {
   "cell_type": "code",
   "execution_count": 162,
   "metadata": {},
   "outputs": [],
   "source": [
    "features = [feature for feature in df.columns if feature not in (\"income\",\"kfold\")]\n",
    "\n",
    "for col in features:\n",
    "    df[col] = df[col].astype(str).fillna(\"NONE\")\n",
    "\n"
   ]
  },
  {
   "cell_type": "code",
   "execution_count": 164,
   "metadata": {},
   "outputs": [
    {
     "output_type": "execute_result",
     "data": {
      "text/plain": [
       "       workclass     education education-num      marital-status  \\\n",
       "0        Private       HS-grad             9       Never-married   \n",
       "1        Private  Some-college            10  Married-civ-spouse   \n",
       "2      Local-gov     Bachelors            13            Divorced   \n",
       "3        Private       HS-grad             9  Married-civ-spouse   \n",
       "4      Local-gov           9th             5           Separated   \n",
       "...          ...           ...           ...                 ...   \n",
       "32556    Private    Assoc-acdm            12       Never-married   \n",
       "32557          ?       HS-grad             9            Divorced   \n",
       "32558    Private  Some-college            10       Never-married   \n",
       "32559    Private       1st-4th             2       Never-married   \n",
       "32560    Private     Assoc-voc            11            Divorced   \n",
       "\n",
       "              occupation   relationship                race     sex  \\\n",
       "0      Machine-op-inspct      Own-child               Black    Male   \n",
       "1        Exec-managerial        Husband               White    Male   \n",
       "2         Prof-specialty      Unmarried               White  Female   \n",
       "3        Farming-fishing        Husband               White    Male   \n",
       "4          Other-service      Unmarried               Black  Female   \n",
       "...                  ...            ...                 ...     ...   \n",
       "32556      Other-service  Not-in-family               White  Female   \n",
       "32557                  ?  Not-in-family  Asian-Pac-Islander  Female   \n",
       "32558    Exec-managerial  Not-in-family               White    Male   \n",
       "32559      Other-service      Own-child               White    Male   \n",
       "32560       Adm-clerical  Not-in-family               Black  Female   \n",
       "\n",
       "      native-country  income  kfold  \n",
       "0      United-States       0      0  \n",
       "1      United-States       0      4  \n",
       "2      United-States       0      0  \n",
       "3      United-States       0      0  \n",
       "4      United-States       0      1  \n",
       "...              ...     ...    ...  \n",
       "32556  United-States       1      2  \n",
       "32557          China       0      1  \n",
       "32558  United-States       0      0  \n",
       "32559  United-States       0      3  \n",
       "32560  United-States       0      4  \n",
       "\n",
       "[32561 rows x 11 columns]"
      ],
      "text/html": "<div>\n<style scoped>\n    .dataframe tbody tr th:only-of-type {\n        vertical-align: middle;\n    }\n\n    .dataframe tbody tr th {\n        vertical-align: top;\n    }\n\n    .dataframe thead th {\n        text-align: right;\n    }\n</style>\n<table border=\"1\" class=\"dataframe\">\n  <thead>\n    <tr style=\"text-align: right;\">\n      <th></th>\n      <th>workclass</th>\n      <th>education</th>\n      <th>education-num</th>\n      <th>marital-status</th>\n      <th>occupation</th>\n      <th>relationship</th>\n      <th>race</th>\n      <th>sex</th>\n      <th>native-country</th>\n      <th>income</th>\n      <th>kfold</th>\n    </tr>\n  </thead>\n  <tbody>\n    <tr>\n      <th>0</th>\n      <td>Private</td>\n      <td>HS-grad</td>\n      <td>9</td>\n      <td>Never-married</td>\n      <td>Machine-op-inspct</td>\n      <td>Own-child</td>\n      <td>Black</td>\n      <td>Male</td>\n      <td>United-States</td>\n      <td>0</td>\n      <td>0</td>\n    </tr>\n    <tr>\n      <th>1</th>\n      <td>Private</td>\n      <td>Some-college</td>\n      <td>10</td>\n      <td>Married-civ-spouse</td>\n      <td>Exec-managerial</td>\n      <td>Husband</td>\n      <td>White</td>\n      <td>Male</td>\n      <td>United-States</td>\n      <td>0</td>\n      <td>4</td>\n    </tr>\n    <tr>\n      <th>2</th>\n      <td>Local-gov</td>\n      <td>Bachelors</td>\n      <td>13</td>\n      <td>Divorced</td>\n      <td>Prof-specialty</td>\n      <td>Unmarried</td>\n      <td>White</td>\n      <td>Female</td>\n      <td>United-States</td>\n      <td>0</td>\n      <td>0</td>\n    </tr>\n    <tr>\n      <th>3</th>\n      <td>Private</td>\n      <td>HS-grad</td>\n      <td>9</td>\n      <td>Married-civ-spouse</td>\n      <td>Farming-fishing</td>\n      <td>Husband</td>\n      <td>White</td>\n      <td>Male</td>\n      <td>United-States</td>\n      <td>0</td>\n      <td>0</td>\n    </tr>\n    <tr>\n      <th>4</th>\n      <td>Local-gov</td>\n      <td>9th</td>\n      <td>5</td>\n      <td>Separated</td>\n      <td>Other-service</td>\n      <td>Unmarried</td>\n      <td>Black</td>\n      <td>Female</td>\n      <td>United-States</td>\n      <td>0</td>\n      <td>1</td>\n    </tr>\n    <tr>\n      <th>...</th>\n      <td>...</td>\n      <td>...</td>\n      <td>...</td>\n      <td>...</td>\n      <td>...</td>\n      <td>...</td>\n      <td>...</td>\n      <td>...</td>\n      <td>...</td>\n      <td>...</td>\n      <td>...</td>\n    </tr>\n    <tr>\n      <th>32556</th>\n      <td>Private</td>\n      <td>Assoc-acdm</td>\n      <td>12</td>\n      <td>Never-married</td>\n      <td>Other-service</td>\n      <td>Not-in-family</td>\n      <td>White</td>\n      <td>Female</td>\n      <td>United-States</td>\n      <td>1</td>\n      <td>2</td>\n    </tr>\n    <tr>\n      <th>32557</th>\n      <td>?</td>\n      <td>HS-grad</td>\n      <td>9</td>\n      <td>Divorced</td>\n      <td>?</td>\n      <td>Not-in-family</td>\n      <td>Asian-Pac-Islander</td>\n      <td>Female</td>\n      <td>China</td>\n      <td>0</td>\n      <td>1</td>\n    </tr>\n    <tr>\n      <th>32558</th>\n      <td>Private</td>\n      <td>Some-college</td>\n      <td>10</td>\n      <td>Never-married</td>\n      <td>Exec-managerial</td>\n      <td>Not-in-family</td>\n      <td>White</td>\n      <td>Male</td>\n      <td>United-States</td>\n      <td>0</td>\n      <td>0</td>\n    </tr>\n    <tr>\n      <th>32559</th>\n      <td>Private</td>\n      <td>1st-4th</td>\n      <td>2</td>\n      <td>Never-married</td>\n      <td>Other-service</td>\n      <td>Own-child</td>\n      <td>White</td>\n      <td>Male</td>\n      <td>United-States</td>\n      <td>0</td>\n      <td>3</td>\n    </tr>\n    <tr>\n      <th>32560</th>\n      <td>Private</td>\n      <td>Assoc-voc</td>\n      <td>11</td>\n      <td>Divorced</td>\n      <td>Adm-clerical</td>\n      <td>Not-in-family</td>\n      <td>Black</td>\n      <td>Female</td>\n      <td>United-States</td>\n      <td>0</td>\n      <td>4</td>\n    </tr>\n  </tbody>\n</table>\n<p>32561 rows × 11 columns</p>\n</div>"
     },
     "metadata": {},
     "execution_count": 164
    }
   ],
   "source": [
    "df"
   ]
  },
  {
   "cell_type": "code",
   "execution_count": 163,
   "metadata": {},
   "outputs": [],
   "source": [
    "df_train = df[df.kfold != 0].reset_index(drop=True)\n",
    "\n",
    "df_valid = df[df.kfold == 0].reset_index(drop=True)\n",
    "\n",
    "ohe = preprocessing.OneHotEncoder()\n",
    "#scaler = preprocessing.StandardScaler()\n",
    "\n",
    "# fit ohe on training + validation features\n",
    "\n",
    "full_data = pd.concat([df_train[features], df_valid[features]],axis=0)\n",
    "\n",
    "ohe.fit(full_data[features])\n",
    "x_train = ohe.transform(df_train[features])\n",
    "x_valid = ohe.transform(df_valid[features])\n",
    "\n",
    "#full_data = pd.concat([df_train[num_cols], df_valid[num_cols]],axis=0)\n",
    "\n",
    "#scaler.fit(full_data)\n",
    "\n",
    "#x_train_x = scaler.transform(df_train[num_cols])\n",
    "#x_valid_x = scaler.transform(df_valid[num_cols])\n",
    "\n",
    "#x_train = pd.concat([x_train,x_train_x],axis=1)\n",
    "#x_valid = pd.concat([x_valid,x_valid_x],axis=1)\n",
    "\n",
    "\n",
    "\n",
    "# modelling\n",
    "\n",
    "clf = linear_model.LogisticRegression()\n",
    "\n",
    "clf.fit(x_train,df_train.income.values)\n",
    "\n",
    "valid_preds = clf.predict_proba(x_valid)[:,1]"
   ]
  },
  {
   "cell_type": "code",
   "execution_count": 165,
   "metadata": {},
   "outputs": [
    {
     "output_type": "stream",
     "name": "stdout",
     "text": [
      "FOLD=0, Accuracy = 0.8747856812101785\n"
     ]
    }
   ],
   "source": [
    "auc = metrics.roc_auc_score(df_valid.income.values,valid_preds)\n",
    "print(f\"FOLD={0}, Accuracy = {auc}\")"
   ]
  },
  {
   "cell_type": "code",
   "execution_count": 166,
   "metadata": {},
   "outputs": [
    {
     "output_type": "execute_result",
     "data": {
      "text/plain": [
       "<26048x118 sparse matrix of type '<class 'numpy.float64'>'\n",
       "\twith 234432 stored elements in Compressed Sparse Row format>"
      ]
     },
     "metadata": {},
     "execution_count": 166
    }
   ],
   "source": [
    "x_train"
   ]
  },
  {
   "source": [
    "## TF Keras"
   ],
   "cell_type": "markdown",
   "metadata": {}
  },
  {
   "cell_type": "code",
   "execution_count": 6,
   "metadata": {},
   "outputs": [],
   "source": [
    "import os\n",
    "import gc\n",
    "import joblib\n",
    "import pandas as pd\n",
    "from sklearn import metrics\n",
    "from sklearn import preprocessing\n",
    "import numpy as np\n",
    "\n",
    "from tensorflow.keras import layers\n",
    "from tensorflow.keras import optimizers\n",
    "from tensorflow.keras.models import Model, load_model\n",
    "from tensorflow.keras import callbacks\n",
    "from tensorflow.keras import backend as K\n",
    "from tensorflow.keras import utils\n",
    "\n",
    "from sklearn import linear_model\n",
    "from sklearn import ensemble"
   ]
  },
  {
   "cell_type": "code",
   "execution_count": 11,
   "metadata": {},
   "outputs": [],
   "source": []
  },
  {
   "cell_type": "code",
   "execution_count": 12,
   "metadata": {},
   "outputs": [
    {
     "output_type": "execute_result",
     "data": {
      "text/plain": [
       "            id  bin_0  bin_1  bin_2 bin_3 bin_4  nom_0      nom_1    nom_2  \\\n",
       "0       152722    0.0    0.0    0.0     F     N   Blue   Triangle     Lion   \n",
       "1       527221    1.0    0.0    0.0     T   NaN   Blue     Circle  Axolotl   \n",
       "2        87946    0.0    0.0    0.0   NaN     N   Blue     Circle     Lion   \n",
       "3       516876    0.0    0.0    0.0     F     N  Green  Trapezoid  Hamster   \n",
       "4       522286    0.0    0.0    1.0     T     Y   Blue    Polygon  Axolotl   \n",
       "...        ...    ...    ...    ...   ...   ...    ...        ...      ...   \n",
       "599995  515749    0.0    0.0    0.0     T     N   Blue    Polygon  Axolotl   \n",
       "599996  163736    0.0    0.0    1.0     F     Y    Red  Trapezoid     Lion   \n",
       "599997  337617    0.0    0.0    0.0     T     N    Red  Trapezoid  Axolotl   \n",
       "599998   72851    0.0    0.0    0.0   NaN     Y    Red   Triangle  Axolotl   \n",
       "599999  450401    0.0    0.0    0.0     F     N   Blue   Triangle     Lion   \n",
       "\n",
       "             nom_3  ... ord_0        ord_1        ord_2 ord_3 ord_4 ord_5  \\\n",
       "0            India  ...   3.0  Contributor          Hot     i     Q    DR   \n",
       "1       Costa Rica  ...   2.0  Contributor  Boiling Hot     a     X    ne   \n",
       "2          Finland  ...   2.0       Novice         Warm     n   NaN   NaN   \n",
       "3          Finland  ...   2.0       Expert          Hot     k     A    nS   \n",
       "4           Canada  ...   1.0       Master  Boiling Hot   NaN     M    gc   \n",
       "...            ...  ...   ...          ...          ...   ...   ...   ...   \n",
       "599995      Russia  ...   1.0       Expert  Boiling Hot     f     B    DI   \n",
       "599996         NaN  ...   2.0  Contributor         Cold     o     W    wa   \n",
       "599997     Finland  ...   3.0  Grandmaster     Freezing     n     M    vx   \n",
       "599998  Costa Rica  ...   1.0       Novice          Hot     o     A    TP   \n",
       "599999  Costa Rica  ...   1.0  Contributor     Freezing     n     F    RV   \n",
       "\n",
       "        day month target kfold  \n",
       "0       3.0  11.0      0     0  \n",
       "1       4.0   7.0      0     0  \n",
       "2       7.0   7.0      0     0  \n",
       "3       2.0   1.0      0     0  \n",
       "4       7.0  11.0      0     0  \n",
       "...     ...   ...    ...   ...  \n",
       "599995  5.0   8.0      0     4  \n",
       "599996  NaN   6.0      0     4  \n",
       "599997  6.0   6.0      0     4  \n",
       "599998  5.0  11.0      0     4  \n",
       "599999  4.0   NaN      0     4  \n",
       "\n",
       "[600000 rows x 26 columns]"
      ],
      "text/html": "<div>\n<style scoped>\n    .dataframe tbody tr th:only-of-type {\n        vertical-align: middle;\n    }\n\n    .dataframe tbody tr th {\n        vertical-align: top;\n    }\n\n    .dataframe thead th {\n        text-align: right;\n    }\n</style>\n<table border=\"1\" class=\"dataframe\">\n  <thead>\n    <tr style=\"text-align: right;\">\n      <th></th>\n      <th>id</th>\n      <th>bin_0</th>\n      <th>bin_1</th>\n      <th>bin_2</th>\n      <th>bin_3</th>\n      <th>bin_4</th>\n      <th>nom_0</th>\n      <th>nom_1</th>\n      <th>nom_2</th>\n      <th>nom_3</th>\n      <th>...</th>\n      <th>ord_0</th>\n      <th>ord_1</th>\n      <th>ord_2</th>\n      <th>ord_3</th>\n      <th>ord_4</th>\n      <th>ord_5</th>\n      <th>day</th>\n      <th>month</th>\n      <th>target</th>\n      <th>kfold</th>\n    </tr>\n  </thead>\n  <tbody>\n    <tr>\n      <th>0</th>\n      <td>152722</td>\n      <td>0.0</td>\n      <td>0.0</td>\n      <td>0.0</td>\n      <td>F</td>\n      <td>N</td>\n      <td>Blue</td>\n      <td>Triangle</td>\n      <td>Lion</td>\n      <td>India</td>\n      <td>...</td>\n      <td>3.0</td>\n      <td>Contributor</td>\n      <td>Hot</td>\n      <td>i</td>\n      <td>Q</td>\n      <td>DR</td>\n      <td>3.0</td>\n      <td>11.0</td>\n      <td>0</td>\n      <td>0</td>\n    </tr>\n    <tr>\n      <th>1</th>\n      <td>527221</td>\n      <td>1.0</td>\n      <td>0.0</td>\n      <td>0.0</td>\n      <td>T</td>\n      <td>NaN</td>\n      <td>Blue</td>\n      <td>Circle</td>\n      <td>Axolotl</td>\n      <td>Costa Rica</td>\n      <td>...</td>\n      <td>2.0</td>\n      <td>Contributor</td>\n      <td>Boiling Hot</td>\n      <td>a</td>\n      <td>X</td>\n      <td>ne</td>\n      <td>4.0</td>\n      <td>7.0</td>\n      <td>0</td>\n      <td>0</td>\n    </tr>\n    <tr>\n      <th>2</th>\n      <td>87946</td>\n      <td>0.0</td>\n      <td>0.0</td>\n      <td>0.0</td>\n      <td>NaN</td>\n      <td>N</td>\n      <td>Blue</td>\n      <td>Circle</td>\n      <td>Lion</td>\n      <td>Finland</td>\n      <td>...</td>\n      <td>2.0</td>\n      <td>Novice</td>\n      <td>Warm</td>\n      <td>n</td>\n      <td>NaN</td>\n      <td>NaN</td>\n      <td>7.0</td>\n      <td>7.0</td>\n      <td>0</td>\n      <td>0</td>\n    </tr>\n    <tr>\n      <th>3</th>\n      <td>516876</td>\n      <td>0.0</td>\n      <td>0.0</td>\n      <td>0.0</td>\n      <td>F</td>\n      <td>N</td>\n      <td>Green</td>\n      <td>Trapezoid</td>\n      <td>Hamster</td>\n      <td>Finland</td>\n      <td>...</td>\n      <td>2.0</td>\n      <td>Expert</td>\n      <td>Hot</td>\n      <td>k</td>\n      <td>A</td>\n      <td>nS</td>\n      <td>2.0</td>\n      <td>1.0</td>\n      <td>0</td>\n      <td>0</td>\n    </tr>\n    <tr>\n      <th>4</th>\n      <td>522286</td>\n      <td>0.0</td>\n      <td>0.0</td>\n      <td>1.0</td>\n      <td>T</td>\n      <td>Y</td>\n      <td>Blue</td>\n      <td>Polygon</td>\n      <td>Axolotl</td>\n      <td>Canada</td>\n      <td>...</td>\n      <td>1.0</td>\n      <td>Master</td>\n      <td>Boiling Hot</td>\n      <td>NaN</td>\n      <td>M</td>\n      <td>gc</td>\n      <td>7.0</td>\n      <td>11.0</td>\n      <td>0</td>\n      <td>0</td>\n    </tr>\n    <tr>\n      <th>...</th>\n      <td>...</td>\n      <td>...</td>\n      <td>...</td>\n      <td>...</td>\n      <td>...</td>\n      <td>...</td>\n      <td>...</td>\n      <td>...</td>\n      <td>...</td>\n      <td>...</td>\n      <td>...</td>\n      <td>...</td>\n      <td>...</td>\n      <td>...</td>\n      <td>...</td>\n      <td>...</td>\n      <td>...</td>\n      <td>...</td>\n      <td>...</td>\n      <td>...</td>\n      <td>...</td>\n    </tr>\n    <tr>\n      <th>599995</th>\n      <td>515749</td>\n      <td>0.0</td>\n      <td>0.0</td>\n      <td>0.0</td>\n      <td>T</td>\n      <td>N</td>\n      <td>Blue</td>\n      <td>Polygon</td>\n      <td>Axolotl</td>\n      <td>Russia</td>\n      <td>...</td>\n      <td>1.0</td>\n      <td>Expert</td>\n      <td>Boiling Hot</td>\n      <td>f</td>\n      <td>B</td>\n      <td>DI</td>\n      <td>5.0</td>\n      <td>8.0</td>\n      <td>0</td>\n      <td>4</td>\n    </tr>\n    <tr>\n      <th>599996</th>\n      <td>163736</td>\n      <td>0.0</td>\n      <td>0.0</td>\n      <td>1.0</td>\n      <td>F</td>\n      <td>Y</td>\n      <td>Red</td>\n      <td>Trapezoid</td>\n      <td>Lion</td>\n      <td>NaN</td>\n      <td>...</td>\n      <td>2.0</td>\n      <td>Contributor</td>\n      <td>Cold</td>\n      <td>o</td>\n      <td>W</td>\n      <td>wa</td>\n      <td>NaN</td>\n      <td>6.0</td>\n      <td>0</td>\n      <td>4</td>\n    </tr>\n    <tr>\n      <th>599997</th>\n      <td>337617</td>\n      <td>0.0</td>\n      <td>0.0</td>\n      <td>0.0</td>\n      <td>T</td>\n      <td>N</td>\n      <td>Red</td>\n      <td>Trapezoid</td>\n      <td>Axolotl</td>\n      <td>Finland</td>\n      <td>...</td>\n      <td>3.0</td>\n      <td>Grandmaster</td>\n      <td>Freezing</td>\n      <td>n</td>\n      <td>M</td>\n      <td>vx</td>\n      <td>6.0</td>\n      <td>6.0</td>\n      <td>0</td>\n      <td>4</td>\n    </tr>\n    <tr>\n      <th>599998</th>\n      <td>72851</td>\n      <td>0.0</td>\n      <td>0.0</td>\n      <td>0.0</td>\n      <td>NaN</td>\n      <td>Y</td>\n      <td>Red</td>\n      <td>Triangle</td>\n      <td>Axolotl</td>\n      <td>Costa Rica</td>\n      <td>...</td>\n      <td>1.0</td>\n      <td>Novice</td>\n      <td>Hot</td>\n      <td>o</td>\n      <td>A</td>\n      <td>TP</td>\n      <td>5.0</td>\n      <td>11.0</td>\n      <td>0</td>\n      <td>4</td>\n    </tr>\n    <tr>\n      <th>599999</th>\n      <td>450401</td>\n      <td>0.0</td>\n      <td>0.0</td>\n      <td>0.0</td>\n      <td>F</td>\n      <td>N</td>\n      <td>Blue</td>\n      <td>Triangle</td>\n      <td>Lion</td>\n      <td>Costa Rica</td>\n      <td>...</td>\n      <td>1.0</td>\n      <td>Contributor</td>\n      <td>Freezing</td>\n      <td>n</td>\n      <td>F</td>\n      <td>RV</td>\n      <td>4.0</td>\n      <td>NaN</td>\n      <td>0</td>\n      <td>4</td>\n    </tr>\n  </tbody>\n</table>\n<p>600000 rows × 26 columns</p>\n</div>"
     },
     "metadata": {},
     "execution_count": 12
    }
   ],
   "source": [
    "df"
   ]
  },
  {
   "cell_type": "code",
   "execution_count": 16,
   "metadata": {},
   "outputs": [],
   "source": [
    "def create_model(data,catcols):\n",
    "\n",
    "    inputs = []\n",
    "    outputs = []\n",
    "\n",
    "    for c in catcols:\n",
    "        num_unique_values = int(data[c].nunique())\n",
    "\n",
    "        embed_dim = int(min(np.ceil((num_unique_values)/2), 50))\n",
    "\n",
    "        inp = layers.Input(shape=(1,))\n",
    "\n",
    "        out = layers.Embedding(\n",
    "            num_unique_values + 1, embed_dim, name = c\n",
    "        )(inp)\n",
    "\n",
    "\n",
    "        out = layers.SpatialDropout1D(0.3)(out)\n",
    "\n",
    "        out = layers.Reshape(target_shape = (embed_dim,))(out)\n",
    "\n",
    "        inputs.append(inp)\n",
    "\n",
    "        outputs.append(out)\n",
    "\n",
    "    x = layers.Concatenate()(outputs)\n",
    "    x = layers.BatchNormalization()(x)\n",
    "\n",
    "    x = layers.Dense(300,activation = \"relu\")(x)\n",
    "    x = layers.Dropout(0.3)(x)\n",
    "    x = layers.BatchNormalization()(x)\n",
    "\n",
    "    y = layers.Dense(2,activation=\"softmax\")(x)\n",
    "\n",
    "    model = Model(inputs = inputs, outputs = y)\n",
    "\n",
    "    model.compile(loss= 'binary_crossentropy', optimizer = 'adam')\n",
    "    return model\n"
   ]
  },
  {
   "cell_type": "code",
   "execution_count": 17,
   "metadata": {},
   "outputs": [],
   "source": [
    "def run(fold):\n",
    "    df = pd.read_csv(\"/home/hazim/Desktop/Categorical-Feature-Encoding-Challenge-II/input/train_folds.csv\")\n",
    "\n",
    "    features = [f for f in df.columns if f not in (\"id\", \"target\", \"kfold\")]\n",
    "\n",
    "    for col in features:\n",
    "        df[col] = df[col].astype(str).fillna(\"NONE\")\n",
    "\n",
    "    for feat in features:\n",
    "        lbl_enc =  preprocessing.LabelEncoder()\n",
    "        df[feat] = lbl_enc.fit_transform(df[feat].values)\n",
    "\n",
    "    df_train = df[df.kfold != 0].reset_index(drop=True)\n",
    "    df_valid = df[df.kfold == 0].reset_index(drop=True)\n",
    "\n",
    "    model = create_model(df, features)\n",
    "\n",
    "    xtrain = [\n",
    "        df_train[features].values[:,k] for k in range(len(features))\n",
    "    ]\n",
    "\n",
    "    xvalid = [\n",
    "        df_valid[features].values[:,k] for k in range(len(features))\n",
    "    ]\n",
    "\n",
    "    ytrain = df_train.target.values\n",
    "    yvalid = df_valid.target.values\n",
    "\n",
    "    ytrain_cat = utils.to_categorical(ytrain)\n",
    "    yvalid_cat = utils.to_categorical(yvalid)\n",
    "\n",
    "    model.fit(xtrain, ytrain_cat, validation_data = (xvalid,yvalid_cat), verbose =1, batch_size = 1024, epochs = 3)\n",
    "\n",
    "    valid_preds = model.predict(xvalid)[:,1]\n",
    "\n",
    "    print(metrics.roc_auc_score(yvalid,valid_preds))\n",
    "\n",
    "    K.clear_session()\n",
    "\n",
    "\n",
    "\n"
   ]
  },
  {
   "cell_type": "code",
   "execution_count": 18,
   "metadata": {},
   "outputs": [
    {
     "output_type": "stream",
     "name": "stdout",
     "text": [
      "Epoch 1/3\n",
      "469/469 [==============================] - 33s 70ms/step - loss: 0.4725 - val_loss: 0.4309\n",
      "Epoch 2/3\n",
      "469/469 [==============================] - 31s 66ms/step - loss: 0.4077 - val_loss: 0.4001\n",
      "Epoch 3/3\n",
      "469/469 [==============================] - 32s 68ms/step - loss: 0.4009 - val_loss: 0.3995\n",
      "0.7834164338137872\n",
      "Epoch 1/3\n",
      "469/469 [==============================] - 33s 70ms/step - loss: 0.4727 - val_loss: 0.4288\n",
      "Epoch 2/3\n",
      "469/469 [==============================] - 32s 68ms/step - loss: 0.4079 - val_loss: 0.3999\n",
      "Epoch 3/3\n",
      "469/469 [==============================] - 32s 68ms/step - loss: 0.4008 - val_loss: 0.3995\n",
      "0.7829379332683242\n",
      "Epoch 1/3\n",
      "469/469 [==============================] - 33s 71ms/step - loss: 0.4732 - val_loss: 0.4277\n",
      "Epoch 2/3\n",
      "469/469 [==============================] - 9s 19ms/step - loss: 0.4075 - val_loss: 0.4006\n",
      "Epoch 3/3\n",
      "469/469 [==============================] - 26s 55ms/step - loss: 0.4009 - val_loss: 0.3996\n",
      "0.7835192553528925\n",
      "Epoch 1/3\n",
      "469/469 [==============================] - 32s 69ms/step - loss: 0.4734 - val_loss: 0.4261\n",
      "Epoch 2/3\n",
      "469/469 [==============================] - 31s 67ms/step - loss: 0.4071 - val_loss: 0.3998\n",
      "Epoch 3/3\n",
      "469/469 [==============================] - 31s 67ms/step - loss: 0.4005 - val_loss: 0.4004\n",
      "0.7824204707865772\n"
     ]
    }
   ],
   "source": [
    "for i in range(4):\n",
    "    run(i)"
   ]
  },
  {
   "cell_type": "code",
   "execution_count": null,
   "metadata": {},
   "outputs": [],
   "source": []
  }
 ]
}